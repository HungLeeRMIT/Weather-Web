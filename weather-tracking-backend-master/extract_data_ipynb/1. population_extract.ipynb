{
 "cells": [
  {
   "cell_type": "code",
   "execution_count": 1,
   "id": "initial_id",
   "metadata": {
    "ExecuteTime": {
     "end_time": "2023-12-24T10:28:25.944524625Z",
     "start_time": "2023-12-24T10:28:25.843238429Z"
    },
    "collapsed": false
   },
   "outputs": [],
   "source": [
    "import pandas as pd\n",
    "import psycopg2"
   ]
  },
  {
   "cell_type": "code",
   "execution_count": 2,
   "id": "378726ee4bbb380f",
   "metadata": {
    "ExecuteTime": {
     "end_time": "2023-12-24T10:28:25.951130223Z",
     "start_time": "2023-12-24T10:28:25.882904134Z"
    },
    "collapsed": false
   },
   "outputs": [],
   "source": [
    "# Connect to postgres\n",
    "dbname = \"weather\"\n",
    "user = \"root\"\n",
    "password = \"root\"\n",
    "host = \"localhost\"\n",
    "port = \"5401\""
   ]
  },
  {
   "cell_type": "code",
   "execution_count": 3,
   "id": "fa73d4b0ffca678e",
   "metadata": {
    "ExecuteTime": {
     "end_time": "2023-12-24T10:28:25.951800414Z",
     "start_time": "2023-12-24T10:28:25.883186844Z"
    },
    "collapsed": false
   },
   "outputs": [],
   "source": [
    "file_path = '../../dataset-Climate/Population.csv'\n",
    "year_range = range(1960, 2013+1)\n",
    "country_col_name = 'Country Code'\n",
    "population_df = pd.read_csv(file_path)"
   ]
  },
  {
   "cell_type": "code",
   "execution_count": 4,
   "id": "f0b35b12008adc51",
   "metadata": {
    "ExecuteTime": {
     "end_time": "2023-12-24T10:28:32.085306719Z",
     "start_time": "2023-12-24T10:28:25.883252768Z"
    },
    "collapsed": false
   },
   "outputs": [
    {
     "name": "stdout",
     "output_type": "stream",
     "text": [
      "Data inserted successfully! Total inserts: 11178\n"
     ]
    }
   ],
   "source": [
    "# Establish a connection to the PostgreSQL database\n",
    "try:\n",
    "    connection = psycopg2.connect(\n",
    "        dbname=dbname,\n",
    "        user=user,\n",
    "        password=password,\n",
    "        host=host,\n",
    "        port=port\n",
    "    )\n",
    "\n",
    "    # Create a cursor object to interact with the database\n",
    "    cursor = connection.cursor()\n",
    "\n",
    "    # Read the Population.csv file\n",
    "    \n",
    "\n",
    "    insert_count = 0\n",
    "    for index, row in population_df.iterrows():\n",
    "        country_code = row[country_col_name]\n",
    "        # Extract the years and corresponding amounts\n",
    "        for year in year_range:\n",
    "            # print(country_code, year)\n",
    "            amount = row[str(year)]\n",
    "            # Handle NaN values and set amount to NULL\n",
    "            amount_sql = 'NULL' if pd.isna(amount) or pd.isnull(amount) else str(amount)\n",
    "\n",
    "            # Check if the data already exists\n",
    "            check_query = f\"\"\"\n",
    "            SELECT 1\n",
    "            FROM population\n",
    "            WHERE year = {year} AND country_code = '{country_code}'\n",
    "            LIMIT 1;\n",
    "            \"\"\"\n",
    "            cursor.execute(check_query)\n",
    "            data_exists = cursor.fetchone()\n",
    "\n",
    "            if not data_exists:\n",
    "                # Data does not exist, proceed with the insert\n",
    "                insert_query = f\"\"\"\n",
    "                INSERT INTO population (year, country_code, amount)\n",
    "                VALUES ({year}, '{country_code}', {amount_sql});\n",
    "                \"\"\"\n",
    "                cursor.execute(insert_query)\n",
    "                insert_count += 1  # Increment the insert count\n",
    "\n",
    "        \n",
    "\n",
    "    # Commit the changes and close the cursor and connection\n",
    "    connection.commit()\n",
    "    cursor.close()\n",
    "    connection.close()\n",
    "\n",
    "    print(f\"Data inserted successfully! Total inserts: {insert_count}\")\n",
    "\n",
    "\n",
    "except psycopg2.Error as e:\n",
    "    print(f\"Error connecting to PostgreSQL: {e}\")\n"
   ]
  },
  {
   "cell_type": "code",
   "execution_count": null,
   "id": "985a2a139a1114f3",
   "metadata": {
    "ExecuteTime": {
     "end_time": "2023-12-24T10:28:32.108677880Z",
     "start_time": "2023-12-24T10:28:32.084886243Z"
    },
    "collapsed": false
   },
   "outputs": [],
   "source": []
  }
 ],
 "metadata": {
  "kernelspec": {
   "display_name": "Python 3",
   "language": "python",
   "name": "python3"
  },
  "language_info": {
   "codemirror_mode": {
    "name": "ipython",
    "version": 3
   },
   "file_extension": ".py",
   "mimetype": "text/x-python",
   "name": "python",
   "nbconvert_exporter": "python",
   "pygments_lexer": "ipython3",
   "version": "3.8.10"
  }
 },
 "nbformat": 4,
 "nbformat_minor": 5
}
